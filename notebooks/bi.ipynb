{
 "cells": [
  {
   "cell_type": "code",
   "execution_count": 1,
   "id": "f366e59d-4a9b-4670-8a59-118087e9f357",
   "metadata": {},
   "outputs": [],
   "source": [
    "import pandas as pd\n",
    "import seaborn as sns\n",
    "import matplotlib.pyplot as plt\n",
    "import ipywidgets as widgets\n",
    "from IPython.display import display, Markdown\n",
    "\n",
    "df = pd.read_csv(\"../data/merged/ready_data.csv\", parse_dates=[\"timestamp\", \"sunrise\", \"sunset\", \"extracted_at\"])\n",
    "\n",
    "month_order = [\"January\", \"February\", \"March\", \"April\", \"May\", \"June\",\n",
    "               \"July\", \"August\", \"September\", \"October\", \"November\", \"December\"]\n",
    "df[\"month\"] = pd.Categorical(df[\"month\"], categories=month_order, ordered=True)\n",
    "\n",
    "df[\"temp_category\"] = pd.cut(df[\"temp_C\"], bins=[-float(\"inf\"), 18, 30, float(\"inf\")],\n",
    "                             labels=[\"Too Cold\", \"Comfortable\", \"Too Hot\"])\n"
   ]
  },
  {
   "cell_type": "code",
   "execution_count": 2,
   "id": "961e7c21-dd90-4284-b138-24f318ee263d",
   "metadata": {},
   "outputs": [],
   "source": [
    "def travel_insight(city):\n",
    "    city_df = df[df[\"city\"] == city]\n",
    "\n",
    "    # Summary stats\n",
    "    ideal_ratio = city_df.groupby(\"month\", observed=False)[\"is_ideal_day\"].mean()\n",
    "    best_month = ideal_ratio.idxmax()\n",
    "    best_ratio = ideal_ratio.max()\n",
    "\n",
    "    comfort_avg = city_df.groupby(\"month\", observed=False)[\"comfort_score\"].mean()\n",
    "    top_comfort_month = comfort_avg.idxmax()\n",
    "    top_comfort_score = comfort_avg.max()\n",
    "\n",
    "    # Display summary\n",
    "    display(Markdown(f\"\"\"\n",
    "### ✈️ Travel Recommendation for **{city}**\n",
    "\n",
    "- 📅 **Best month to travel** (most ideal days): **{best_month}** ({best_ratio:.0%} ideal days)\n",
    "- 🧘 **Most comfortable month** (highest average score): **{top_comfort_month}** (score: {top_comfort_score:.2f})\n",
    "- 🌡️ **Temperature comfort** trends shown below\n",
    "    \"\"\"))\n",
    "\n",
    "    # Plot 1: Ideal day ratio\n",
    "    plt.figure(figsize=(10, 4))\n",
    "    sns.barplot(x=ideal_ratio.index, y=ideal_ratio.values)\n",
    "    plt.title(\"Proportion of Ideal Days by Month\")\n",
    "    plt.ylabel(\"Ideal Day Ratio\")\n",
    "    plt.xticks(rotation=45)\n",
    "    plt.tight_layout()\n",
    "    plt.show()\n",
    "\n",
    "    # Plot 2: Comfort score\n",
    "    plt.figure(figsize=(10, 4))\n",
    "    sns.lineplot(x=comfort_avg.index, y=comfort_avg.values, marker=\"o\")\n",
    "    plt.title(\"Average Comfort Score by Month\")\n",
    "    plt.ylabel(\"Comfort Score\")\n",
    "    plt.xticks(rotation=45)\n",
    "    plt.tight_layout()\n",
    "    plt.show()\n",
    "\n",
    "    # Plot 3: Temperature comfort categories\n",
    "    plt.figure(figsize=(10, 4))\n",
    "    sns.countplot(data=city_df, x=\"month\", hue=\"temp_category\", order=month_order)\n",
    "    plt.title(\"Temperature Comfort Categories by Month\")\n",
    "    plt.ylabel(\"Number of Days\")\n",
    "    plt.xticks(rotation=45)\n",
    "    plt.tight_layout()\n",
    "    plt.show()\n"
   ]
  },
  {
   "cell_type": "code",
   "execution_count": 3,
   "id": "6b67e1d7-e93f-4886-b40c-d2e5630539e8",
   "metadata": {},
   "outputs": [
    {
     "data": {
      "application/vnd.jupyter.widget-view+json": {
       "model_id": "ef3e5d82f3294a67a9cba86e7f223a57",
       "version_major": 2,
       "version_minor": 0
      },
      "text/plain": [
       "interactive(children=(Dropdown(description='City:', layout=Layout(width='50%'), options=('Mahajanga', 'New Yor…"
      ]
     },
     "metadata": {},
     "output_type": "display_data"
    },
    {
     "data": {
      "text/plain": [
       "<function __main__.travel_insight(city)>"
      ]
     },
     "execution_count": 3,
     "metadata": {},
     "output_type": "execute_result"
    }
   ],
   "source": [
    "dropdown = widgets.Dropdown(\n",
    "    options=sorted(df[\"city\"].unique()),\n",
    "    description=\"City:\",\n",
    "    style={\"description_width\": \"initial\"},\n",
    "    layout=widgets.Layout(width=\"50%\")\n",
    ")\n",
    "\n",
    "widgets.interact(travel_insight, city=dropdown)\n"
   ]
  },
  {
   "cell_type": "code",
   "execution_count": 4,
   "id": "288ffcce-36d3-4c6f-b273-0180b795b1ae",
   "metadata": {},
   "outputs": [],
   "source": [
    "month_order = [\"January\", \"February\", \"March\", \"April\", \"May\", \"June\",\n",
    "               \"July\", \"August\", \"September\", \"October\", \"November\", \"December\"]\n",
    "df[\"month\"] = pd.Categorical(df[\"month\"], categories=month_order, ordered=True)\n",
    "\n",
    "\n",
    "def compare_cities_by_month(selected_month):\n",
    "    filtered = df[df[\"month\"] == selected_month]\n",
    "    comparison = (\n",
    "        filtered.groupby(\"city\", observed=False)[\"comfort_score\"]\n",
    "        .mean()\n",
    "        .sort_values(ascending=False)\n",
    "        .reset_index()\n",
    "    )\n",
    "\n",
    "    plt.figure(figsize=(10, 5))\n",
    "    sns.barplot(data=comparison, x=\"city\", y=\"comfort_score\", hue=\"city\", palette=\"viridis\", legend=False)\n",
    "    plt.title(f\"Best Cities to Visit in {selected_month} (Avg. Comfort Score)\")\n",
    "    plt.ylabel(\"Comfort Score\")\n",
    "    plt.xticks(rotation=45)\n",
    "    plt.tight_layout()\n",
    "    plt.show()\n"
   ]
  },
  {
   "cell_type": "code",
   "execution_count": 5,
   "id": "f397fc38-5680-458e-baa8-aacf869009aa",
   "metadata": {},
   "outputs": [
    {
     "data": {
      "application/vnd.jupyter.widget-view+json": {
       "model_id": "d61c2a4b8d7d4411a750c2c22b73d4b0",
       "version_major": 2,
       "version_minor": 0
      },
      "text/plain": [
       "interactive(children=(Dropdown(description='Select Month:', layout=Layout(width='50%'), options=('January', 'F…"
      ]
     },
     "metadata": {},
     "output_type": "display_data"
    },
    {
     "data": {
      "text/plain": [
       "<function __main__.compare_cities_by_month(selected_month)>"
      ]
     },
     "execution_count": 5,
     "metadata": {},
     "output_type": "execute_result"
    }
   ],
   "source": [
    "month_dropdown = widgets.Dropdown(\n",
    "    options=month_order,\n",
    "    description=\"Select Month:\",\n",
    "    style={\"description_width\": \"initial\"},\n",
    "    layout=widgets.Layout(width=\"50%\")\n",
    ")\n",
    "\n",
    "widgets.interact(compare_cities_by_month, selected_month=month_dropdown)\n"
   ]
  },
  {
   "cell_type": "code",
   "execution_count": null,
   "id": "728f35c7-1de8-4fb9-a723-d3f98ad54074",
   "metadata": {},
   "outputs": [],
   "source": []
  }
 ],
 "metadata": {
  "kernelspec": {
   "display_name": "Python 3 (ipykernel)",
   "language": "python",
   "name": "python3"
  },
  "language_info": {
   "codemirror_mode": {
    "name": "ipython",
    "version": 3
   },
   "file_extension": ".py",
   "mimetype": "text/x-python",
   "name": "python",
   "nbconvert_exporter": "python",
   "pygments_lexer": "ipython3",
   "version": "3.11.2"
  }
 },
 "nbformat": 4,
 "nbformat_minor": 5
}
